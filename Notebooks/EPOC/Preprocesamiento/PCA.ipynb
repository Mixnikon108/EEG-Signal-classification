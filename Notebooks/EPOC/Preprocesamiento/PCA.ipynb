{
 "cells": [
  {
   "cell_type": "markdown",
   "id": "3efc20c0",
   "metadata": {},
   "source": [
    "# Creación del dataset reducido mediante PCA"
   ]
  },
  {
   "cell_type": "markdown",
   "id": "1d141608",
   "metadata": {},
   "source": [
    "### Importación de librerias"
   ]
  },
  {
   "cell_type": "code",
   "execution_count": 1,
   "id": "f3eff263",
   "metadata": {},
   "outputs": [],
   "source": [
    "import pandas as pd\n",
    "import numpy as np\n",
    "from sklearn.decomposition import PCA"
   ]
  },
  {
   "cell_type": "markdown",
   "id": "8254b708",
   "metadata": {},
   "source": [
    "### Cargado del dataset"
   ]
  },
  {
   "cell_type": "code",
   "execution_count": 12,
   "id": "cd3450e8",
   "metadata": {},
   "outputs": [],
   "source": [
    "raw_df = pd.read_csv(r\"C:\\Users\\Alex\\Desktop\\Universidad\\Cuarto año\\PCD\\Proyecto CDIA\\git\\EEG-Signal-classification\\Data\\epocData\\train.csv\", sep = \",\")"
   ]
  },
  {
   "cell_type": "code",
   "execution_count": 19,
   "id": "ce02822a",
   "metadata": {},
   "outputs": [
    {
     "data": {
      "text/plain": [
       "Index(['label', 'AF3-0', 'AF3-1', 'AF3-2', 'AF3-3', 'AF3-4', 'AF3-5', 'AF3-6',\n",
       "       'AF3-7', 'AF3-8',\n",
       "       ...\n",
       "       'AF4-246', 'AF4-247', 'AF4-248', 'AF4-249', 'AF4-250', 'AF4-251',\n",
       "       'AF4-252', 'AF4-253', 'AF4-254', 'AF4-255'],\n",
       "      dtype='object', length=3585)"
      ]
     },
     "execution_count": 19,
     "metadata": {},
     "output_type": "execute_result"
    }
   ],
   "source": [
    "raw_df.head()\n",
    "raw_df.columns"
   ]
  },
  {
   "cell_type": "markdown",
   "id": "aadfe097",
   "metadata": {},
   "source": [
    "### Separamos en train, test y validation"
   ]
  },
  {
   "cell_type": "code",
   "execution_count": 16,
   "id": "061161c3",
   "metadata": {},
   "outputs": [
    {
     "name": "stdout",
     "output_type": "stream",
     "text": [
      "Train shape: (36415, 3585)\n",
      "Test shape: (10456, 3585)\n",
      "Validation shape: (5151, 3585)\n"
     ]
    }
   ],
   "source": [
    "import pandas as pd\n",
    "from sklearn.model_selection import train_test_split\n",
    "\n",
    "# Split the data into train (70%) and temp (30%)\n",
    "train, temp = train_test_split(raw_df, test_size=0.3, random_state=42)\n",
    "\n",
    "# Split the temp data into test (20%) and validation (10%)\n",
    "test, validation = train_test_split(temp, test_size=0.33, random_state=42)\n",
    "\n",
    "# Print the shapes of the resulting sets\n",
    "print(\"Train shape:\", train.shape)\n",
    "print(\"Test shape:\", test.shape)\n",
    "print(\"Validation shape:\", validation.shape)\n"
   ]
  },
  {
   "cell_type": "code",
   "execution_count": 17,
   "id": "466a630a",
   "metadata": {},
   "outputs": [
    {
     "name": "stdout",
     "output_type": "stream",
     "text": [
      "X_train shape: (36415, 3584)\n",
      "y_train shape: (36415,)\n",
      "X_test shape: (10456, 3584)\n",
      "y_test shape: (10456,)\n",
      "X_validation shape: (5151, 3584)\n",
      "y_validation shape: (5151,)\n"
     ]
    }
   ],
   "source": [
    "# For the training set\n",
    "X_train = train.drop(columns=['label'])\n",
    "y_train = train['label']\n",
    "\n",
    "# For the test set\n",
    "X_test = test.drop(columns=['label'])\n",
    "y_test = test['label']\n",
    "\n",
    "# For the validation set\n",
    "X_validation = validation.drop(columns=['label'])\n",
    "y_validation = validation['label']\n",
    "\n",
    "# Print the shapes of the resulting sets\n",
    "print(\"X_train shape:\", X_train.shape)\n",
    "print(\"y_train shape:\", y_train.shape)\n",
    "print(\"X_test shape:\", X_test.shape)\n",
    "print(\"y_test shape:\", y_test.shape)\n",
    "print(\"X_validation shape:\", X_validation.shape)\n",
    "print(\"y_validation shape:\", y_validation.shape)"
   ]
  },
  {
   "cell_type": "markdown",
   "id": "e631a1b8",
   "metadata": {},
   "source": [
    "## Aplicamos PCA"
   ]
  },
  {
   "cell_type": "code",
   "execution_count": null,
   "id": "d96f3277",
   "metadata": {},
   "outputs": [],
   "source": [
    "# Number of components to retain\n",
    "num_components = 100  # You can adjust this number based on your requirements\n",
    "\n",
    "# Apply PCA to X_train\n",
    "pca = PCA(n_components=num_components)\n",
    "X_train_pca = pca.fit_transform(X_train)\n",
    "\n",
    "# Apply the same PCA transformation to X_test and X_validation\n",
    "X_test_pca = pca.transform(X_test)\n",
    "X_validation_pca = pca.transform(X_validation)\n",
    "\n",
    "# Print the shapes of the transformed sets\n",
    "print(\"X_train_pca shape:\", X_train_pca.shape)\n",
    "print(\"X_test_pca shape:\", X_test_pca.shape)\n",
    "print(\"X_validation_pca shape:\", X_validation_pca.shape)"
   ]
  }
 ],
 "metadata": {
  "kernelspec": {
   "display_name": "Python 3 (ipykernel)",
   "language": "python",
   "name": "python3"
  },
  "language_info": {
   "codemirror_mode": {
    "name": "ipython",
    "version": 3
   },
   "file_extension": ".py",
   "mimetype": "text/x-python",
   "name": "python",
   "nbconvert_exporter": "python",
   "pygments_lexer": "ipython3",
   "version": "3.10.9"
  }
 },
 "nbformat": 4,
 "nbformat_minor": 5
}
